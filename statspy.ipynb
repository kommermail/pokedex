{
 "cells": [
  {
   "cell_type": "markdown",
   "id": "6d45e122-9017-4ed3-8aae-9f0ab4f85645",
   "metadata": {},
   "source": [
    "# World Bank Science and Technology Data Analysis"
   ]
  },
  {
   "cell_type": "markdown",
   "id": "fdd6fa46-6b4f-4b9d-a2ba-30f88caa5832",
   "metadata": {},
   "source": [
    "## Importing the Data"
   ]
  },
  {
   "cell_type": "code",
   "execution_count": null,
   "id": "af497dc5-828f-436d-8280-a82bb9638b8a",
   "metadata": {},
   "outputs": [],
   "source": [
    "import pandas as pd"
   ]
  },
  {
   "cell_type": "code",
   "execution_count": null,
   "id": "1cc1a3ce-67ba-41a0-a043-15c3734a1f6e",
   "metadata": {},
   "outputs": [],
   "source": [
    "st_data_2018=pd.read_csv(\"science_tech_2018.csv\")\n",
    "st_data_2018.head()"
   ]
  },
  {
   "cell_type": "code",
   "execution_count": null,
   "id": "26020654-e679-4b20-8732-4057d8e22344",
   "metadata": {},
   "outputs": [],
   "source": [
    "st_data_2018.shape"
   ]
  },
  {
   "cell_type": "code",
   "execution_count": null,
   "id": "526f7549-004f-4d00-a89f-3132c1fc5223",
   "metadata": {},
   "outputs": [],
   "source": [
    "st_data_2018.columns"
   ]
  },
  {
   "cell_type": "code",
   "execution_count": null,
   "id": "71d845be-bfd8-4f7f-a1f9-ebaf32b19408",
   "metadata": {},
   "outputs": [],
   "source": [
    "st_data_2009=pd.read_csv(\"science_tech_2009.csv\")\n",
    "st_data_2009.head()"
   ]
  },
  {
   "cell_type": "markdown",
   "id": "1cc0652f-2b12-4a5f-b3ea-3db906cca01d",
   "metadata": {},
   "source": [
    "## Cleaning the Data"
   ]
  },
  {
   "cell_type": "markdown",
   "id": "9ce2807b-c0f0-459a-b611-9fefb4507fb2",
   "metadata": {},
   "source": [
    "### Missing Data"
   ]
  },
  {
   "cell_type": "code",
   "execution_count": null,
   "id": "971ab83d-75be-4eb9-b559-03a2608b166c",
   "metadata": {},
   "outputs": [],
   "source": [
    "st_data_2018.isna().sum()"
   ]
  },
  {
   "cell_type": "code",
   "execution_count": null,
   "id": "ef0fb560-fe92-4a55-b0dc-fae112339337",
   "metadata": {},
   "outputs": [],
   "source": [
    "st_data_2018_clean= st_data_2018.dropna()\n",
    "st_data_2018_clean.shape"
   ]
  },
  {
   "cell_type": "code",
   "execution_count": null,
   "id": "0ee59abc-76a5-4c19-96b5-fe5c80abf83e",
   "metadata": {},
   "outputs": [],
   "source": [
    "st_data_2009_clean=st_data_2009.dropna()\n",
    "st_data_2009_clean.shape"
   ]
  },
  {
   "cell_type": "markdown",
   "id": "49444b87-4700-4859-b66f-ceeff5de01f1",
   "metadata": {},
   "source": [
    "## Exploratory Data Analysis"
   ]
  },
  {
   "cell_type": "markdown",
   "id": "d6c8c2c6-1a57-43e1-b7db-99512bd0acbd",
   "metadata": {},
   "source": [
    "### Descriptive Statistics"
   ]
  },
  {
   "cell_type": "code",
   "execution_count": null,
   "id": "a34e455e-2d85-448b-9098-407df5d582da",
   "metadata": {},
   "outputs": [],
   "source": [
    "pd.set_option('display.float_format', lambda x: '%.3f' %x)\n",
    "st_data_2018_clean.describe().style.format(\"{:,.0f}\")"
   ]
  },
  {
   "cell_type": "code",
   "execution_count": null,
   "id": "3f9dbc93-72e3-48ce-b139-04177c958f18",
   "metadata": {},
   "outputs": [],
   "source": [
    "import matplotlib.pyplot as plt\n",
    "import seaborn as sns\n",
    "%matplotlib  inline"
   ]
  },
  {
   "cell_type": "code",
   "execution_count": null,
   "id": "a5fb7170-cb3a-4b6b-8c44-aff9cefaf035",
   "metadata": {},
   "outputs": [],
   "source": [
    "sns.boxplot(x=st_data_2018_clean['High-technology exports (% of manufactured exports)'])"
   ]
  },
  {
   "cell_type": "code",
   "execution_count": null,
   "id": "7328596b-0bfe-4dcb-8bcd-fbacb8963140",
   "metadata": {},
   "outputs": [],
   "source": [
    "sns.boxplot(x=st_data_2009_clean['High-technology exports (% of manufactured exports)'])"
   ]
  },
  {
   "cell_type": "markdown",
   "id": "ebbb927c-19c4-497e-bf01-6ff35be5d3c4",
   "metadata": {},
   "source": [
    "## Outliers"
   ]
  },
  {
   "cell_type": "code",
   "execution_count": null,
   "id": "a98c4461-0b79-413a-a379-fcccb0701187",
   "metadata": {},
   "outputs": [],
   "source": [
    "columns=st_data_2018_clean.columns\n",
    "for i in range(1,len(columns)):\n",
    "    fig=plt.figure(figsize=(10,5))\n",
    "    sns.boxplot(x=st_data_2018_clean[columns[i]])"
   ]
  },
  {
   "cell_type": "code",
   "execution_count": null,
   "id": "43ef2931-c92e-4a44-962d-7ad3f80e34f4",
   "metadata": {},
   "outputs": [],
   "source": [
    "articles_max=st_data_2018_clean['Scientific and technical journal articles'].max()"
   ]
  },
  {
   "cell_type": "code",
   "execution_count": null,
   "id": "67a5f142-31bb-48f6-b6f6-c5c4cdc31265",
   "metadata": {},
   "outputs": [],
   "source": [
    "st_data_2018_clean[st_data_2018_clean['Scientific and technical journal articles']==articles_max]"
   ]
  },
  {
   "cell_type": "code",
   "execution_count": null,
   "id": "5c5fb0d8-1580-444f-b654-7d2b8e890e4c",
   "metadata": {},
   "outputs": [],
   "source": [
    "st_data_2018_clean[st_data_2018_clean['Scientific and technical journal articles']>60000]"
   ]
  },
  {
   "cell_type": "code",
   "execution_count": null,
   "id": "208d47fe-356b-4055-908c-36cdc70f009b",
   "metadata": {},
   "outputs": [],
   "source": []
  },
  {
   "cell_type": "code",
   "execution_count": null,
   "id": "4f41de27-c093-4a58-89c4-cd673ecb2d26",
   "metadata": {},
   "outputs": [],
   "source": [
    "columns=st_data_2009_clean.columns\n",
    "for i in range(1,len(columns)):\n",
    "    fig=plt.figure(figsize=(10,5))\n",
    "    sns.boxplot(x=st_data_2009_clean[columns[i]])"
   ]
  },
  {
   "cell_type": "code",
   "execution_count": null,
   "id": "593e60dc-d8ff-49e1-9a3e-5716481c0a0e",
   "metadata": {},
   "outputs": [],
   "source": [
    "trade_apps_res_max=st_data_2009_clean['Trademark applications, direct resident'].max()"
   ]
  },
  {
   "cell_type": "code",
   "execution_count": null,
   "id": "385dbabb-273d-4111-841d-565e745563f3",
   "metadata": {},
   "outputs": [],
   "source": [
    "st_data_2018_clean[st_data_2018_clean['Trademark applications, direct resident']>200000]"
   ]
  },
  {
   "cell_type": "markdown",
   "id": "1dee52a7-c342-4e60-b59c-49801e7bccb6",
   "metadata": {},
   "source": [
    "## Exploring Relationships"
   ]
  },
  {
   "cell_type": "markdown",
   "id": "ca089063-fc7a-4b6f-b618-d8194587e9b2",
   "metadata": {},
   "source": [
    "### Correlations"
   ]
  },
  {
   "cell_type": "code",
   "execution_count": null,
   "id": "03ad4eb2-317c-4064-8594-a4ca646f834a",
   "metadata": {},
   "outputs": [],
   "source": [
    "st_data_18_nocountry=st_data_2018_clean.drop('Country Name', axis=1)"
   ]
  },
  {
   "cell_type": "code",
   "execution_count": null,
   "id": "35751ec0-d230-488f-8115-c23ced8cba1b",
   "metadata": {},
   "outputs": [],
   "source": [
    "st_data_18_nocountry.corr(method='pearson').style.background_gradient(cmap='viridis')"
   ]
  },
  {
   "cell_type": "code",
   "execution_count": null,
   "id": "55bf6f9e-41f6-4ae2-b3f6-9de2c828e1a5",
   "metadata": {},
   "outputs": [],
   "source": [
    "st_data_18_nocountry.corr(method='spearman').style.background_gradient(cmap='viridis')"
   ]
  },
  {
   "cell_type": "code",
   "execution_count": null,
   "id": "94fc183f-64d4-47a0-9c3b-0a2632ff8983",
   "metadata": {},
   "outputs": [],
   "source": [
    "st_data_2018_clean.plot.scatter(x='Scientific and technical journal articles', y='Patent applications, nonresidents')"
   ]
  },
  {
   "cell_type": "code",
   "execution_count": null,
   "id": "ed3982d5-e4af-4720-8a82-178b03fc27c6",
   "metadata": {},
   "outputs": [],
   "source": [
    "st_data_2018_nonUS = st_data_2018_clean[st_data_2018_clean['Country Name']!='United States']"
   ]
  },
  {
   "cell_type": "code",
   "execution_count": null,
   "id": "8cbe3253-0b9b-4228-9e29-624cf2f6f391",
   "metadata": {},
   "outputs": [],
   "source": [
    "st_data_2018_nonUS.plot.scatter(x='Scientific and technical journal articles', y='Patent applications, nonresidents')"
   ]
  },
  {
   "cell_type": "code",
   "execution_count": null,
   "id": "25cf4942-b004-4441-b02b-1fed61a25da4",
   "metadata": {},
   "outputs": [],
   "source": []
  },
  {
   "cell_type": "code",
   "execution_count": null,
   "id": "e041de34-413e-4cd1-af48-9b51eab0306a",
   "metadata": {},
   "outputs": [],
   "source": [
    "st_data_2018_clean.plot.scatter(x='Research and development expenditure (% of GDP)', y='High-technology exports (current US$)')"
   ]
  },
  {
   "cell_type": "code",
   "execution_count": null,
   "id": "462c842c-8f07-439a-8a6a-951dcc3b9364",
   "metadata": {},
   "outputs": [],
   "source": [
    "import scipy.stats as stats"
   ]
  },
  {
   "cell_type": "code",
   "execution_count": null,
   "id": "88945d47-c381-4142-970f-ccf501cf952e",
   "metadata": {},
   "outputs": [],
   "source": [
    "a=st_data_2009_clean['Patent applications, residents']\n",
    "b=st_data_2018_clean['Patent applications, residents']\n",
    "stats.ttest_ind(a,b)"
   ]
  },
  {
   "cell_type": "code",
   "execution_count": null,
   "id": "5828017d-cef0-4f90-af04-e80723a34dcd",
   "metadata": {},
   "outputs": [],
   "source": [
    "a=st_data_2009_clean[columns[i]]\n",
    "b=st_data_2018_clean[columns[i]]"
   ]
  },
  {
   "cell_type": "code",
   "execution_count": null,
   "id": "c4ddeb91-d215-4119-8e3d-44842c9e7a33",
   "metadata": {},
   "outputs": [],
   "source": [
    "for i in range(1,len(columns)):\n",
    "    a=st_data_2009_clean[columns[i]]\n",
    "    b=st_data_2018_clean[columns[i]]\n",
    "    print(columns[i])\n",
    "    statistic, pvalue = stats.ttest_ind(a,b)\n",
    "    print(\"Statistic: %s p-value: %s\" %(statistic, pvalue))\n",
    "    if pvalue < 0.05:\n",
    "        print(\"Significant\")\n",
    "    else:\n",
    "        print(\"Not Significant\")"
   ]
  },
  {
   "cell_type": "code",
   "execution_count": null,
   "id": "2d3b5103-d3df-40f0-92b4-c2d2c966300c",
   "metadata": {},
   "outputs": [],
   "source": [
    "st_data_2009.head()"
   ]
  },
  {
   "cell_type": "code",
   "execution_count": null,
   "id": "b105a2f9-2fd8-4316-86f2-403ae95a311e",
   "metadata": {},
   "outputs": [],
   "source": []
  }
 ],
 "metadata": {
  "kernelspec": {
   "display_name": "Python 3 (ipykernel)",
   "language": "python",
   "name": "python3"
  },
  "language_info": {
   "codemirror_mode": {
    "name": "ipython",
    "version": 3
   },
   "file_extension": ".py",
   "mimetype": "text/x-python",
   "name": "python",
   "nbconvert_exporter": "python",
   "pygments_lexer": "ipython3",
   "version": "3.12.2"
  }
 },
 "nbformat": 4,
 "nbformat_minor": 5
}
